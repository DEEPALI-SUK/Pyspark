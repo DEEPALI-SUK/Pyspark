{
  "nbformat": 4,
  "nbformat_minor": 0,
  "metadata": {
    "colab": {
      "name": "PySpark Column Class.ipynb",
      "provenance": []
    },
    "kernelspec": {
      "name": "python3",
      "display_name": "Python 3"
    },
    "language_info": {
      "name": "python"
    }
  },
  "cells": [
    {
      "cell_type": "code",
      "execution_count": 1,
      "metadata": {
        "colab": {
          "base_uri": "https://localhost:8080/"
        },
        "id": "w4vW5WHM6SAx",
        "outputId": "4c8d45c5-cfbb-464d-bfe7-996b7fbd477b"
      },
      "outputs": [
        {
          "output_type": "stream",
          "name": "stdout",
          "text": [
            "Looking in indexes: https://pypi.org/simple, https://us-python.pkg.dev/colab-wheels/public/simple/\n",
            "Collecting pyspark\n",
            "  Downloading pyspark-3.2.1.tar.gz (281.4 MB)\n",
            "\u001b[K     |████████████████████████████████| 281.4 MB 34 kB/s \n",
            "\u001b[?25hCollecting py4j==0.10.9.3\n",
            "  Downloading py4j-0.10.9.3-py2.py3-none-any.whl (198 kB)\n",
            "\u001b[K     |████████████████████████████████| 198 kB 66.1 MB/s \n",
            "\u001b[?25hBuilding wheels for collected packages: pyspark\n",
            "  Building wheel for pyspark (setup.py) ... \u001b[?25l\u001b[?25hdone\n",
            "  Created wheel for pyspark: filename=pyspark-3.2.1-py2.py3-none-any.whl size=281853642 sha256=151afa57799c070c8902f64a140fbe16f0971c15bda1146d81521950354c965d\n",
            "  Stored in directory: /root/.cache/pip/wheels/9f/f5/07/7cd8017084dce4e93e84e92efd1e1d5334db05f2e83bcef74f\n",
            "Successfully built pyspark\n",
            "Installing collected packages: py4j, pyspark\n",
            "Successfully installed py4j-0.10.9.3 pyspark-3.2.1\n"
          ]
        }
      ],
      "source": [
        "pip install pyspark"
      ]
    },
    {
      "cell_type": "code",
      "source": [
        "from pyspark.sql import SparkSession\n",
        "spark=SparkSession.builder.appName('Pyspark Column Class').getOrCreate()"
      ],
      "metadata": {
        "id": "zmqRLlle-chI"
      },
      "execution_count": 2,
      "outputs": []
    },
    {
      "cell_type": "code",
      "source": [
        "data=[(\"Jack\",23),(\"Ema\",40)]\n",
        "df=spark.createDataFrame(data).toDF(\"name.first_name\",\"age\")\n",
        "\n",
        "df.select(df.age).show()\n",
        "df.select(df[\"age\"]).show()\n",
        "#Accessing column name with dot (with backticks)\n",
        "df.select(df[\"`name.first_name`\"]).show()\n",
        "\n",
        "#Using SQL col() function\n",
        "from pyspark.sql.functions import col\n",
        "df.select(col(\"age\")).show()\n",
        "#Accessing column name with dot (with backticks)\n",
        "df.select(col(\"`name.first_name`\")).show()"
      ],
      "metadata": {
        "colab": {
          "base_uri": "https://localhost:8080/"
        },
        "id": "UPu42trS-ze8",
        "outputId": "1be30d0e-252d-4926-8196-831881ace1d4"
      },
      "execution_count": 3,
      "outputs": [
        {
          "output_type": "stream",
          "name": "stdout",
          "text": [
            "+---+\n",
            "|age|\n",
            "+---+\n",
            "| 23|\n",
            "| 40|\n",
            "+---+\n",
            "\n",
            "+---+\n",
            "|age|\n",
            "+---+\n",
            "| 23|\n",
            "| 40|\n",
            "+---+\n",
            "\n",
            "+---------------+\n",
            "|name.first_name|\n",
            "+---------------+\n",
            "|           Jack|\n",
            "|            Ema|\n",
            "+---------------+\n",
            "\n",
            "+---+\n",
            "|age|\n",
            "+---+\n",
            "| 23|\n",
            "| 40|\n",
            "+---+\n",
            "\n",
            "+---------------+\n",
            "|name.first_name|\n",
            "+---------------+\n",
            "|           Jack|\n",
            "|            Ema|\n",
            "+---------------+\n",
            "\n"
          ]
        }
      ]
    },
    {
      "cell_type": "code",
      "source": [
        "#Creating dataframe with struct using Row class\n",
        "from pyspark.sql import Row\n",
        "data=[Row(name=\"James\",prop=Row(hair=\"black\",eye=\"blue\")),\n",
        "      Row(name=\"Ann\",prop=Row(hair=\"grey\",eye=\"black\"))]\n",
        "df=spark.createDataFrame(data)\n",
        "\n",
        "#Access struct column\n",
        "df.select(df.prop.eye).show()\n",
        "df.select(df[\"prop.eye\"]).show()\n",
        "df.select(col(\"prop.eye\")).show()\n",
        "\n",
        "#Access all columns from struct\n",
        "df.select(col(\"prop.*\")).show()\n"
      ],
      "metadata": {
        "colab": {
          "base_uri": "https://localhost:8080/"
        },
        "id": "1rIOFNTT_dON",
        "outputId": "7c3ea3f9-a4b5-4466-9620-fb307ee99a65"
      },
      "execution_count": 5,
      "outputs": [
        {
          "output_type": "stream",
          "name": "stdout",
          "text": [
            "+--------+\n",
            "|prop.eye|\n",
            "+--------+\n",
            "|    blue|\n",
            "|   black|\n",
            "+--------+\n",
            "\n",
            "+-----+\n",
            "|  eye|\n",
            "+-----+\n",
            "| blue|\n",
            "|black|\n",
            "+-----+\n",
            "\n",
            "+-----+\n",
            "|  eye|\n",
            "+-----+\n",
            "| blue|\n",
            "|black|\n",
            "+-----+\n",
            "\n",
            "+-----+-----+\n",
            "| hair|  eye|\n",
            "+-----+-----+\n",
            "|black| blue|\n",
            "| grey|black|\n",
            "+-----+-----+\n",
            "\n"
          ]
        }
      ]
    },
    {
      "cell_type": "code",
      "source": [
        "data=[(100,2,1),(200,3,4),(300,4,4)]\n",
        "df=spark.createDataFrame(data).toDF(\"c1\",\"c2\",\"c3\")\n",
        "\n",
        "df.select(df.c1 + df.c2).show()\n",
        "df.select(df[\"c1\"] - df.c2).show() \n",
        "df.select(df[\"c1\"] * df[\"c2\"]).show()\n",
        "df.select(df.c1 / df.c2).show()\n",
        "df.select(df.c1 % df.c2).show()\n",
        "\n",
        "df.select(df.c2 > df.c3).show()\n",
        "df.select(df.c2 < df.c3).show()\n",
        "df.select(df.c2 == df.c3).show()\n"
      ],
      "metadata": {
        "colab": {
          "base_uri": "https://localhost:8080/"
        },
        "id": "i_Sgepf_ACLD",
        "outputId": "c4c68d6d-c956-471d-cc04-a399400f8543"
      },
      "execution_count": 7,
      "outputs": [
        {
          "output_type": "stream",
          "name": "stdout",
          "text": [
            "+---------+\n",
            "|(c1 + c2)|\n",
            "+---------+\n",
            "|      102|\n",
            "|      203|\n",
            "|      304|\n",
            "+---------+\n",
            "\n",
            "+---------+\n",
            "|(c1 - c2)|\n",
            "+---------+\n",
            "|       98|\n",
            "|      197|\n",
            "|      296|\n",
            "+---------+\n",
            "\n",
            "+---------+\n",
            "|(c1 * c2)|\n",
            "+---------+\n",
            "|      200|\n",
            "|      600|\n",
            "|     1200|\n",
            "+---------+\n",
            "\n",
            "+-----------------+\n",
            "|        (c1 / c2)|\n",
            "+-----------------+\n",
            "|             50.0|\n",
            "|66.66666666666667|\n",
            "|             75.0|\n",
            "+-----------------+\n",
            "\n",
            "+---------+\n",
            "|(c1 % c2)|\n",
            "+---------+\n",
            "|        0|\n",
            "|        2|\n",
            "|        0|\n",
            "+---------+\n",
            "\n",
            "+---------+\n",
            "|(c2 > c3)|\n",
            "+---------+\n",
            "|     true|\n",
            "|    false|\n",
            "|    false|\n",
            "+---------+\n",
            "\n",
            "+---------+\n",
            "|(c2 < c3)|\n",
            "+---------+\n",
            "|    false|\n",
            "|     true|\n",
            "|    false|\n",
            "+---------+\n",
            "\n",
            "+---------+\n",
            "|(c2 = c3)|\n",
            "+---------+\n",
            "|    false|\n",
            "|    false|\n",
            "|     true|\n",
            "+---------+\n",
            "\n"
          ]
        }
      ]
    },
    {
      "cell_type": "code",
      "source": [
        "# functions\n",
        "\n",
        "data=[(\"J\",\"B\",\"100\",None),\n",
        "      (\"A\",\"V\",\"200\",'F'),\n",
        "      (\"T\",\"XXX\",\"400\",''),\n",
        "      (\"W\",None,\"400\",'M')] \n",
        "col=[\"f_name\",\"l_name\",\"id\",\"gender\"]\n",
        "df=spark.createDataFrame(data,col)"
      ],
      "metadata": {
        "id": "8jKfXA-iBKqy"
      },
      "execution_count": 8,
      "outputs": []
    },
    {
      "cell_type": "code",
      "source": [
        "# asc() & desc()\n",
        "df.sort(df.f_name.asc()).show()\n",
        "df.sort(df.f_name.desc()).show()"
      ],
      "metadata": {
        "colab": {
          "base_uri": "https://localhost:8080/"
        },
        "id": "stwZoswWByW4",
        "outputId": "ffd55c98-d91d-4574-cc77-c9580e39b7de"
      },
      "execution_count": 10,
      "outputs": [
        {
          "output_type": "stream",
          "name": "stdout",
          "text": [
            "+------+------+---+------+\n",
            "|f_name|l_name| id|gender|\n",
            "+------+------+---+------+\n",
            "|     A|     V|200|     F|\n",
            "|     J|     B|100|  null|\n",
            "|     T|   XXX|400|      |\n",
            "|     W|  null|400|     M|\n",
            "+------+------+---+------+\n",
            "\n",
            "+------+------+---+------+\n",
            "|f_name|l_name| id|gender|\n",
            "+------+------+---+------+\n",
            "|     W|  null|400|     M|\n",
            "|     T|   XXX|400|      |\n",
            "|     J|     B|100|  null|\n",
            "|     A|     V|200|     F|\n",
            "+------+------+---+------+\n",
            "\n"
          ]
        }
      ]
    },
    {
      "cell_type": "code",
      "source": [
        "# cast() & astype() convert the data Type"
      ],
      "metadata": {
        "id": "WLwVJtgCCCes"
      },
      "execution_count": 12,
      "outputs": []
    },
    {
      "cell_type": "code",
      "source": [
        "df.select(df.id.cast(\"int\")).printSchema()"
      ],
      "metadata": {
        "colab": {
          "base_uri": "https://localhost:8080/"
        },
        "id": "Yl2v_Q5aCHVa",
        "outputId": "32b2f75b-5de4-4be9-ba34-71a06ac6422a"
      },
      "execution_count": 11,
      "outputs": [
        {
          "output_type": "stream",
          "name": "stdout",
          "text": [
            "root\n",
            " |-- id: integer (nullable = true)\n",
            "\n"
          ]
        }
      ]
    },
    {
      "cell_type": "code",
      "source": [
        "# between() – Returns a Boolean expression when a column values in between lower and upper bound.\n",
        "df.filter(df.id.between(100,150)).show()"
      ],
      "metadata": {
        "colab": {
          "base_uri": "https://localhost:8080/"
        },
        "id": "hUAItK0eCVph",
        "outputId": "5eae6d77-5075-4533-a802-79e0b9a572b0"
      },
      "execution_count": 15,
      "outputs": [
        {
          "output_type": "stream",
          "name": "stdout",
          "text": [
            "+------+------+---+------+\n",
            "|f_name|l_name| id|gender|\n",
            "+------+------+---+------+\n",
            "|     J|     B|100|  null|\n",
            "+------+------+---+------+\n",
            "\n"
          ]
        }
      ]
    },
    {
      "cell_type": "code",
      "source": [
        "# contains() – Checks if a DataFrame column value contains a value specified in this function.\n",
        "df.filter(df.f_name.contains(\"J\")).show()"
      ],
      "metadata": {
        "colab": {
          "base_uri": "https://localhost:8080/"
        },
        "id": "C5Mpg5SOCvNd",
        "outputId": "49c7537d-d199-459f-fd61-e83c1fa88b5b"
      },
      "execution_count": 20,
      "outputs": [
        {
          "output_type": "stream",
          "name": "stdout",
          "text": [
            "+------+------+---+------+\n",
            "|f_name|l_name| id|gender|\n",
            "+------+------+---+------+\n",
            "|     J|     B|100|  null|\n",
            "+------+------+---+------+\n",
            "\n"
          ]
        }
      ]
    },
    {
      "cell_type": "code",
      "source": [
        "#startswith, endswith()\n",
        "df.filter(df.gender.startswith(\"None\")).show()\n",
        "df.filter(df.gender.endswith(\"M\")).show()"
      ],
      "metadata": {
        "colab": {
          "base_uri": "https://localhost:8080/"
        },
        "id": "vwqiHEfsDE0m",
        "outputId": "fc858124-cbcc-47a1-9668-911616f56385"
      },
      "execution_count": 21,
      "outputs": [
        {
          "output_type": "stream",
          "name": "stdout",
          "text": [
            "+------+------+---+------+\n",
            "|f_name|l_name| id|gender|\n",
            "+------+------+---+------+\n",
            "+------+------+---+------+\n",
            "\n",
            "+------+------+---+------+\n",
            "|f_name|l_name| id|gender|\n",
            "+------+------+---+------+\n",
            "|     W|  null|400|     M|\n",
            "+------+------+---+------+\n",
            "\n"
          ]
        }
      ]
    },
    {
      "cell_type": "code",
      "source": [
        "#isNull & isNotNull\n",
        "df.filter(df.gender.isNull()).show()\n",
        "df.filter(df.gender.isNotNull()).show()\n"
      ],
      "metadata": {
        "colab": {
          "base_uri": "https://localhost:8080/"
        },
        "id": "phewv-K0DhDz",
        "outputId": "c6ea2448-f9b9-49ce-c92c-c313fa072813"
      },
      "execution_count": 22,
      "outputs": [
        {
          "output_type": "stream",
          "name": "stdout",
          "text": [
            "+------+------+---+------+\n",
            "|f_name|l_name| id|gender|\n",
            "+------+------+---+------+\n",
            "|     J|     B|100|  null|\n",
            "+------+------+---+------+\n",
            "\n",
            "+------+------+---+------+\n",
            "|f_name|l_name| id|gender|\n",
            "+------+------+---+------+\n",
            "|     A|     V|200|     F|\n",
            "|     T|   XXX|400|      |\n",
            "|     W|  null|400|     M|\n",
            "+------+------+---+------+\n",
            "\n"
          ]
        }
      ]
    }
  ]
}