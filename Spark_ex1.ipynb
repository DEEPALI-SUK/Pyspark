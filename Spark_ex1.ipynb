{
  "nbformat": 4,
  "nbformat_minor": 0,
  "metadata": {
    "colab": {
      "name": "Spark ex1.ipynb",
      "provenance": []
    },
    "kernelspec": {
      "name": "python3",
      "display_name": "Python 3"
    },
    "language_info": {
      "name": "python"
    },
    "accelerator": "TPU",
    "gpuClass": "standard"
  },
  "cells": [
    {
      "cell_type": "code",
      "execution_count": 1,
      "metadata": {
        "colab": {
          "base_uri": "https://localhost:8080/"
        },
        "id": "loFFmwcOR-D3",
        "outputId": "5ff4cc5f-a31f-449c-8284-3821adaf29c1"
      },
      "outputs": [
        {
          "output_type": "stream",
          "name": "stdout",
          "text": [
            "Looking in indexes: https://pypi.org/simple, https://us-python.pkg.dev/colab-wheels/public/simple/\n",
            "Collecting pyspark\n",
            "  Downloading pyspark-3.3.0.tar.gz (281.3 MB)\n",
            "\u001b[K     |████████████████████████████████| 281.3 MB 45 kB/s \n",
            "\u001b[?25hCollecting py4j==0.10.9.5\n",
            "  Downloading py4j-0.10.9.5-py2.py3-none-any.whl (199 kB)\n",
            "\u001b[K     |████████████████████████████████| 199 kB 54.5 MB/s \n",
            "\u001b[?25hBuilding wheels for collected packages: pyspark\n",
            "  Building wheel for pyspark (setup.py) ... \u001b[?25l\u001b[?25hdone\n",
            "  Created wheel for pyspark: filename=pyspark-3.3.0-py2.py3-none-any.whl size=281764026 sha256=17f79a067f54116c1bee5c1b8ef67cb0b0d9b61390bb89e1b3d0245e1ce53c77\n",
            "  Stored in directory: /root/.cache/pip/wheels/7a/8e/1b/f73a52650d2e5f337708d9f6a1750d451a7349a867f928b885\n",
            "Successfully built pyspark\n",
            "Installing collected packages: py4j, pyspark\n",
            "Successfully installed py4j-0.10.9.5 pyspark-3.3.0\n"
          ]
        }
      ],
      "source": [
        "pip install pyspark"
      ]
    },
    {
      "cell_type": "code",
      "source": [
        "import pyspark\n",
        "from pyspark.sql import SparkSession\n",
        "from pyspark.sql.types import StructType, StructField, IntegerType, LongType\n",
        "from pyspark.sql.functions import col, asc,desc"
      ],
      "metadata": {
        "id": "C-9pEqWZSpu2"
      },
      "execution_count": 11,
      "outputs": []
    },
    {
      "cell_type": "code",
      "source": [
        "spark = SparkSession.builder.appName('PySpark-example1').getOrCreate()\n",
        "sc=spark.sparkContext"
      ],
      "metadata": {
        "id": "PohCW9BlS4OI"
      },
      "execution_count": 12,
      "outputs": []
    },
    {
      "cell_type": "code",
      "source": [
        "# Create schema \n",
        "schema = StructType([ \n",
        "                     StructField(\"uID\", IntegerType(), True), \n",
        "                     StructField(\"mID\", IntegerType(), True), \n",
        "                     StructField(\"rating\", IntegerType(), True), \n",
        "                     StructField(\"time\", LongType(), True)])\n"
      ],
      "metadata": {
        "id": "R6fDuup7TK_r"
      },
      "execution_count": 13,
      "outputs": []
    },
    {
      "cell_type": "code",
      "source": [
        "# from csv files\n",
        "df = spark.read.option(\"sep\", \"\\t\").schema(schema).csv(\"/content/u.data\")\n",
        "df.show()"
      ],
      "metadata": {
        "colab": {
          "base_uri": "https://localhost:8080/"
        },
        "id": "gnNO8eBHTnpR",
        "outputId": "4123380c-485b-4221-89ea-af9763067a16"
      },
      "execution_count": 14,
      "outputs": [
        {
          "output_type": "stream",
          "name": "stdout",
          "text": [
            "+---+----+------+---------+\n",
            "|uID| mID|rating|     time|\n",
            "+---+----+------+---------+\n",
            "|196| 242|     3|881250949|\n",
            "|186| 302|     3|891717742|\n",
            "| 22| 377|     1|878887116|\n",
            "|244|  51|     2|880606923|\n",
            "|166| 346|     1|886397596|\n",
            "|298| 474|     4|884182806|\n",
            "|115| 265|     2|881171488|\n",
            "|253| 465|     5|891628467|\n",
            "|305| 451|     3|886324817|\n",
            "|  6|  86|     3|883603013|\n",
            "| 62| 257|     2|879372434|\n",
            "|286|1014|     5|879781125|\n",
            "|200| 222|     5|876042340|\n",
            "|210|  40|     3|891035994|\n",
            "|224|  29|     3|888104457|\n",
            "|303| 785|     3|879485318|\n",
            "|122| 387|     5|879270459|\n",
            "|194| 274|     2|879539794|\n",
            "|291|1042|     4|874834944|\n",
            "|234|1184|     2|892079237|\n",
            "+---+----+------+---------+\n",
            "only showing top 20 rows\n",
            "\n"
          ]
        }
      ]
    },
    {
      "cell_type": "code",
      "source": [
        "topmovies = df.groupBy(\"mID\").count().orderBy(col(\"count\").desc())\n",
        "topmovies.show(3)"
      ],
      "metadata": {
        "colab": {
          "base_uri": "https://localhost:8080/"
        },
        "id": "Ti_1HJtaUkYi",
        "outputId": "e85a9fab-1d3a-493e-a2a4-e245c3f7b9be"
      },
      "execution_count": 17,
      "outputs": [
        {
          "output_type": "stream",
          "name": "stdout",
          "text": [
            "+---+-----+\n",
            "|mID|count|\n",
            "+---+-----+\n",
            "| 50|  583|\n",
            "|258|  509|\n",
            "|100|  508|\n",
            "+---+-----+\n",
            "only showing top 3 rows\n",
            "\n"
          ]
        }
      ]
    },
    {
      "cell_type": "code",
      "source": [
        "df1= spark.read.option(\"sep\", \"|\").csv(\"/content/u.item\")\n",
        "df1.show(3)"
      ],
      "metadata": {
        "colab": {
          "base_uri": "https://localhost:8080/"
        },
        "id": "tYc4r1zAcbnw",
        "outputId": "288450a2-ba42-4401-a0fb-3b5a327f96b6"
      },
      "execution_count": 26,
      "outputs": [
        {
          "output_type": "stream",
          "name": "stdout",
          "text": [
            "+---+-----------------+-----------+----+--------------------+---+---+---+---+---+----+----+----+----+----+----+----+----+----+----+----+----+----+----+\n",
            "|_c0|              _c1|        _c2| _c3|                 _c4|_c5|_c6|_c7|_c8|_c9|_c10|_c11|_c12|_c13|_c14|_c15|_c16|_c17|_c18|_c19|_c20|_c21|_c22|_c23|\n",
            "+---+-----------------+-----------+----+--------------------+---+---+---+---+---+----+----+----+----+----+----+----+----+----+----+----+----+----+----+\n",
            "|  1| Toy Story (1995)|01-Jan-1995|null|http://us.imdb.co...|  0|  0|  0|  1|  1|   1|   0|   0|   0|   0|   0|   0|   0|   0|   0|   0|   0|   0|   0|\n",
            "|  2| GoldenEye (1995)|01-Jan-1995|null|http://us.imdb.co...|  0|  1|  1|  0|  0|   0|   0|   0|   0|   0|   0|   0|   0|   0|   0|   0|   1|   0|   0|\n",
            "|  3|Four Rooms (1995)|01-Jan-1995|null|http://us.imdb.co...|  0|  0|  0|  0|  0|   0|   0|   0|   0|   0|   0|   0|   0|   0|   0|   0|   1|   0|   0|\n",
            "+---+-----------------+-----------+----+--------------------+---+---+---+---+---+----+----+----+----+----+----+----+----+----+----+----+----+----+----+\n",
            "only showing top 3 rows\n",
            "\n"
          ]
        }
      ]
    },
    {
      "cell_type": "code",
      "source": [
        "mvname={}\n",
        "#df1.select(df1.columns[:2]).show()\n",
        "for i in df1.collect():\n",
        "  mvname[int(i[0])]=i[1]"
      ],
      "metadata": {
        "id": "dOr1EeTQdHFM"
      },
      "execution_count": 32,
      "outputs": []
    },
    {
      "cell_type": "code",
      "source": [
        "name_dictionary = sc.broadcast(mvname)"
      ],
      "metadata": {
        "id": "DpUWGHFBfjlI"
      },
      "execution_count": 33,
      "outputs": []
    },
    {
      "cell_type": "code",
      "source": [
        "movie_count=df.groupBy(\"mID\").count()"
      ],
      "metadata": {
        "id": "YXn29dDHf0pL"
      },
      "execution_count": 34,
      "outputs": []
    },
    {
      "cell_type": "code",
      "source": [
        "from pyspark.sql import functions as func"
      ],
      "metadata": {
        "id": "0Z7B756OgfJU"
      },
      "execution_count": 35,
      "outputs": []
    },
    {
      "cell_type": "code",
      "source": [
        "# Create a user-defined function to look up movie names from our broadcasted dictionary\n",
        "def lookupName(movieID):\n",
        "    return name_dictionary.value[movieID]"
      ],
      "metadata": {
        "id": "wn9nX_mggAic"
      },
      "execution_count": 36,
      "outputs": []
    },
    {
      "cell_type": "code",
      "source": [
        "lookupNameUDF = func.udf(lookupName)"
      ],
      "metadata": {
        "id": "Eg8DFiVngGw1"
      },
      "execution_count": 37,
      "outputs": []
    },
    {
      "cell_type": "code",
      "source": [
        "# Add a movieTitle column using our new udf\n",
        "moviesWithNames = movie_count.withColumn(\"movieTitle\", lookupNameUDF(func.col(\"mID\")))"
      ],
      "metadata": {
        "id": "ZunrcqRZgC6B"
      },
      "execution_count": 38,
      "outputs": []
    },
    {
      "cell_type": "code",
      "source": [
        "top_m_names= moviesWithNames.sort(col(\"count\").desc())\n",
        "top_m_names.show(4)"
      ],
      "metadata": {
        "colab": {
          "base_uri": "https://localhost:8080/"
        },
        "id": "934DPsU4gl0Q",
        "outputId": "64ae4207-ed48-486e-a92d-48e1ba0bed57"
      },
      "execution_count": 39,
      "outputs": [
        {
          "output_type": "stream",
          "name": "stdout",
          "text": [
            "+---+-----+--------------------+\n",
            "|mID|count|          movieTitle|\n",
            "+---+-----+--------------------+\n",
            "| 50|  583|    Star Wars (1977)|\n",
            "|258|  509|      Contact (1997)|\n",
            "|100|  508|        Fargo (1996)|\n",
            "|181|  507|Return of the Jed...|\n",
            "+---+-----+--------------------+\n",
            "only showing top 4 rows\n",
            "\n"
          ]
        }
      ]
    }
  ]
}